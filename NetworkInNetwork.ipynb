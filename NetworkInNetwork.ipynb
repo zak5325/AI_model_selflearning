{
 "cells": [
  {
   "cell_type": "code",
   "execution_count": 1,
   "metadata": {},
   "outputs": [
    {
     "name": "stderr",
     "output_type": "stream",
     "text": [
      "Using TensorFlow backend.\n"
     ]
    }
   ],
   "source": [
    "import numpy\n",
    "from keras.datasets import cifar10\n",
    "import numpy as np\n",
    "import matplotlib.pyplot as plt\n",
    "np.random.seed(10)\n",
    "log_filepath  = './nin'"
   ]
  },
  {
   "cell_type": "code",
   "execution_count": 2,
   "metadata": {
    "collapsed": true
   },
   "outputs": [],
   "source": [
    "(X_img_train, y_label_train), (X_img_test, y_label_test) = cifar10.load_data()"
   ]
  },
  {
   "cell_type": "code",
   "execution_count": 3,
   "metadata": {},
   "outputs": [
    {
     "name": "stdout",
     "output_type": "stream",
     "text": [
      "train data: images: (50000, 32, 32, 3)  labels: (50000, 1)\n",
      "test  data: images: (10000, 32, 32, 3)  labels: (10000, 1)\n"
     ]
    }
   ],
   "source": [
    "print(\"train data:\",'images:',X_img_train.shape,\" labels:\",y_label_train.shape) \n",
    "print(\"test  data:\",'images:',X_img_test.shape ,\" labels:\",y_label_test.shape) "
   ]
  },
  {
   "cell_type": "code",
   "execution_count": 4,
   "metadata": {
    "collapsed": true
   },
   "outputs": [],
   "source": [
    "X_img_train_normalize = X_img_train.astype('float32') / 255.0\n",
    "X_img_test_normalize = X_img_test.astype('float32') / 255.0"
   ]
  },
  {
   "cell_type": "code",
   "execution_count": 5,
   "metadata": {
    "collapsed": true
   },
   "outputs": [],
   "source": [
    "from keras.utils import np_utils\n",
    "y_label_train_OneHot = np_utils.to_categorical(y_label_train)\n",
    "y_label_test_OneHot = np_utils.to_categorical(y_label_test)"
   ]
  },
  {
   "cell_type": "code",
   "execution_count": 6,
   "metadata": {},
   "outputs": [
    {
     "data": {
      "text/plain": [
       "(10000, 10)"
      ]
     },
     "execution_count": 6,
     "metadata": {},
     "output_type": "execute_result"
    }
   ],
   "source": [
    "y_label_test_OneHot.shape"
   ]
  },
  {
   "cell_type": "code",
   "execution_count": 7,
   "metadata": {
    "collapsed": true
   },
   "outputs": [],
   "source": [
    "from keras.callbacks import TensorBoard\n",
    "tb_cb = TensorBoard(log_dir=log_filepath, histogram_freq=1)\n",
    "cbks = [tb_cb]"
   ]
  },
  {
   "cell_type": "code",
   "execution_count": 8,
   "metadata": {
    "collapsed": true
   },
   "outputs": [],
   "source": [
    "import keras \n",
    "from keras.models import Sequential\n",
    "from keras.layers import Conv2D\n",
    "from keras.layers import MaxPooling2D\n",
    "from keras.layers import Flatten\n",
    "from keras.layers import Dense\n",
    "from keras.layers import Input\n",
    "from keras.layers import ZeroPadding2D\n",
    "from keras.models import Model\n",
    "from keras.layers import Dropout\n",
    "from models import nin_cifar"
   ]
  },
  {
   "cell_type": "code",
   "execution_count": 9,
   "metadata": {},
   "outputs": [
    {
     "name": "stdout",
     "output_type": "stream",
     "text": [
      "_________________________________________________________________\n",
      "Layer (type)                 Output Shape              Param #   \n",
      "=================================================================\n",
      "conv2d_1 (Conv2D)            (None, 16, 16, 192)       14592     \n",
      "_________________________________________________________________\n",
      "conv2d_2 (Conv2D)            (None, 16, 16, 160)       30880     \n",
      "_________________________________________________________________\n",
      "conv2d_3 (Conv2D)            (None, 16, 16, 96)        15456     \n",
      "_________________________________________________________________\n",
      "max_pooling2d_1 (MaxPooling2 (None, 8, 8, 96)          0         \n",
      "_________________________________________________________________\n",
      "dropout_1 (Dropout)          (None, 8, 8, 96)          0         \n",
      "_________________________________________________________________\n",
      "conv2d_4 (Conv2D)            (None, 8, 8, 192)         460992    \n",
      "_________________________________________________________________\n",
      "conv2d_5 (Conv2D)            (None, 8, 8, 192)         37056     \n",
      "_________________________________________________________________\n",
      "conv2d_6 (Conv2D)            (None, 8, 8, 192)         37056     \n",
      "_________________________________________________________________\n",
      "max_pooling2d_2 (MaxPooling2 (None, 4, 4, 192)         0         \n",
      "_________________________________________________________________\n",
      "dropout_2 (Dropout)          (None, 4, 4, 192)         0         \n",
      "_________________________________________________________________\n",
      "conv2d_7 (Conv2D)            (None, 4, 4, 192)         331968    \n",
      "_________________________________________________________________\n",
      "conv2d_8 (Conv2D)            (None, 4, 4, 192)         37056     \n",
      "_________________________________________________________________\n",
      "conv2d_9 (Conv2D)            (None, 4, 4, 10)          1930      \n",
      "_________________________________________________________________\n",
      "global_average_pooling2d_1 ( (None, 10)                0         \n",
      "_________________________________________________________________\n",
      "activation_1 (Activation)    (None, 10)                0         \n",
      "=================================================================\n",
      "Total params: 966,986\n",
      "Trainable params: 966,986\n",
      "Non-trainable params: 0\n",
      "_________________________________________________________________\n",
      "None\n"
     ]
    }
   ],
   "source": [
    "model=nin_cifar(input_shape=(32,32,3),classes=10)\n",
    "model.compile(optimizer='sgd',loss='categorical_crossentropy',metrics=['accuracy'])\n",
    "print(model.summary())"
   ]
  },
  {
   "cell_type": "code",
   "execution_count": 10,
   "metadata": {
    "scrolled": false
   },
   "outputs": [
    {
     "name": "stdout",
     "output_type": "stream",
     "text": [
      "Train on 40000 samples, validate on 10000 samples\n",
      "Epoch 1/150\n",
      "40000/40000 [==============================] - 276s 7ms/step - loss: 2.4244 - acc: 0.0976 - val_loss: 2.4239 - val_acc: 0.1039\n",
      "Epoch 2/150\n",
      "40000/40000 [==============================] - 276s 7ms/step - loss: 2.4239 - acc: 0.1114 - val_loss: 2.4235 - val_acc: 0.1076\n",
      "Epoch 3/150\n",
      "40000/40000 [==============================] - 276s 7ms/step - loss: 2.4233 - acc: 0.1264 - val_loss: 2.4226 - val_acc: 0.1264\n",
      "Epoch 4/150\n",
      "40000/40000 [==============================] - 275s 7ms/step - loss: 2.4224 - acc: 0.1534 - val_loss: 2.4209 - val_acc: 0.1448\n",
      "Epoch 5/150\n",
      "40000/40000 [==============================] - 276s 7ms/step - loss: 2.4201 - acc: 0.1693 - val_loss: 2.4166 - val_acc: 0.1733\n",
      "Epoch 6/150\n",
      "40000/40000 [==============================] - 276s 7ms/step - loss: 2.4134 - acc: 0.1755 - val_loss: 2.4049 - val_acc: 0.1749\n",
      "Epoch 7/150\n",
      "40000/40000 [==============================] - 277s 7ms/step - loss: 2.3913 - acc: 0.1764 - val_loss: 2.3651 - val_acc: 0.1780\n",
      "Epoch 8/150\n",
      "40000/40000 [==============================] - 295s 7ms/step - loss: 2.3252 - acc: 0.1778 - val_loss: 2.2896 - val_acc: 0.1886\n",
      "Epoch 9/150\n",
      "40000/40000 [==============================] - 298s 7ms/step - loss: 2.2824 - acc: 0.2002 - val_loss: 2.2672 - val_acc: 0.2126\n",
      "Epoch 10/150\n",
      "40000/40000 [==============================] - 280s 7ms/step - loss: 2.2646 - acc: 0.2092 - val_loss: 2.2750 - val_acc: 0.2155\n",
      "Epoch 11/150\n",
      "40000/40000 [==============================] - 280s 7ms/step - loss: 2.2287 - acc: 0.2246 - val_loss: 2.1905 - val_acc: 0.2429\n",
      "Epoch 12/150\n",
      "40000/40000 [==============================] - 312s 8ms/step - loss: 2.1839 - acc: 0.2324 - val_loss: 2.1055 - val_acc: 0.2443\n",
      "Epoch 13/150\n",
      "40000/40000 [==============================] - 294s 7ms/step - loss: 2.1186 - acc: 0.2453 - val_loss: 2.0574 - val_acc: 0.2550\n",
      "Epoch 14/150\n",
      "40000/40000 [==============================] - 279s 7ms/step - loss: 2.0754 - acc: 0.2551 - val_loss: 2.0092 - val_acc: 0.2636\n",
      "Epoch 15/150\n",
      "40000/40000 [==============================] - 279s 7ms/step - loss: 2.0314 - acc: 0.2752 - val_loss: 1.9479 - val_acc: 0.3052\n",
      "Epoch 16/150\n",
      "40000/40000 [==============================] - 279s 7ms/step - loss: 1.9730 - acc: 0.3010 - val_loss: 1.9170 - val_acc: 0.3133\n",
      "Epoch 17/150\n",
      "40000/40000 [==============================] - 278s 7ms/step - loss: 1.9452 - acc: 0.3161 - val_loss: 1.9038 - val_acc: 0.3351\n",
      "Epoch 18/150\n",
      "40000/40000 [==============================] - 278s 7ms/step - loss: 1.9121 - acc: 0.3321 - val_loss: 1.9430 - val_acc: 0.3261\n",
      "Epoch 19/150\n",
      "40000/40000 [==============================] - 279s 7ms/step - loss: 1.8746 - acc: 0.3473 - val_loss: 1.8301 - val_acc: 0.3702\n",
      "Epoch 20/150\n",
      "40000/40000 [==============================] - 287s 7ms/step - loss: 1.8437 - acc: 0.3568 - val_loss: 1.8043 - val_acc: 0.3769\n",
      "Epoch 21/150\n",
      "40000/40000 [==============================] - 280s 7ms/step - loss: 1.8070 - acc: 0.3700 - val_loss: 1.7872 - val_acc: 0.3811\n",
      "Epoch 22/150\n",
      "40000/40000 [==============================] - 283s 7ms/step - loss: 1.7837 - acc: 0.3811 - val_loss: 1.7509 - val_acc: 0.4041\n",
      "Epoch 23/150\n",
      "40000/40000 [==============================] - 342s 9ms/step - loss: 1.7602 - acc: 0.3933 - val_loss: 1.7261 - val_acc: 0.4065\n",
      "Epoch 24/150\n",
      "40000/40000 [==============================] - 346s 9ms/step - loss: 1.7344 - acc: 0.4025 - val_loss: 1.7010 - val_acc: 0.4225\n",
      "Epoch 25/150\n",
      "40000/40000 [==============================] - 333s 8ms/step - loss: 1.7129 - acc: 0.4090 - val_loss: 1.6640 - val_acc: 0.4393\n",
      "Epoch 26/150\n",
      "40000/40000 [==============================] - 284s 7ms/step - loss: 1.6905 - acc: 0.4223 - val_loss: 1.6358 - val_acc: 0.4476\n",
      "Epoch 27/150\n",
      "40000/40000 [==============================] - 286s 7ms/step - loss: 1.6701 - acc: 0.4280 - val_loss: 1.6479 - val_acc: 0.4430\n",
      "Epoch 28/150\n",
      "40000/40000 [==============================] - 285s 7ms/step - loss: 1.6536 - acc: 0.4357 - val_loss: 1.6705 - val_acc: 0.4342\n",
      "Epoch 29/150\n",
      "40000/40000 [==============================] - 286s 7ms/step - loss: 1.6354 - acc: 0.4442 - val_loss: 1.6129 - val_acc: 0.4567\n",
      "Epoch 30/150\n",
      "40000/40000 [==============================] - 310s 8ms/step - loss: 1.6202 - acc: 0.4500 - val_loss: 1.5808 - val_acc: 0.4702\n",
      "Epoch 31/150\n",
      "40000/40000 [==============================] - 317s 8ms/step - loss: 1.6026 - acc: 0.4554 - val_loss: 1.5496 - val_acc: 0.4756\n",
      "Epoch 32/150\n",
      "40000/40000 [==============================] - 314s 8ms/step - loss: 1.5834 - acc: 0.4649 - val_loss: 1.5471 - val_acc: 0.4768\n",
      "Epoch 33/150\n",
      "40000/40000 [==============================] - 318s 8ms/step - loss: 1.5724 - acc: 0.4676 - val_loss: 1.5084 - val_acc: 0.4924\n",
      "Epoch 34/150\n",
      "40000/40000 [==============================] - 305s 8ms/step - loss: 1.5581 - acc: 0.4751 - val_loss: 1.5144 - val_acc: 0.4983\n",
      "Epoch 35/150\n",
      "40000/40000 [==============================] - 331s 8ms/step - loss: 1.5481 - acc: 0.4774 - val_loss: 1.4844 - val_acc: 0.5017\n",
      "Epoch 36/150\n",
      "40000/40000 [==============================] - 302s 8ms/step - loss: 1.5329 - acc: 0.4853 - val_loss: 1.5378 - val_acc: 0.4802\n",
      "Epoch 37/150\n",
      "40000/40000 [==============================] - 286s 7ms/step - loss: 1.5215 - acc: 0.4899 - val_loss: 1.4706 - val_acc: 0.5085\n",
      "Epoch 38/150\n",
      "40000/40000 [==============================] - 298s 7ms/step - loss: 1.5116 - acc: 0.4920 - val_loss: 1.4721 - val_acc: 0.5116\n",
      "Epoch 39/150\n",
      "40000/40000 [==============================] - 283s 7ms/step - loss: 1.4972 - acc: 0.4993 - val_loss: 1.4318 - val_acc: 0.5305\n",
      "Epoch 40/150\n",
      "40000/40000 [==============================] - 283s 7ms/step - loss: 1.4876 - acc: 0.5004 - val_loss: 1.4407 - val_acc: 0.5190\n",
      "Epoch 41/150\n",
      "40000/40000 [==============================] - 282s 7ms/step - loss: 1.4757 - acc: 0.5063 - val_loss: 1.4531 - val_acc: 0.5185\n",
      "Epoch 42/150\n",
      "40000/40000 [==============================] - 285s 7ms/step - loss: 1.4622 - acc: 0.5125 - val_loss: 1.4825 - val_acc: 0.5018\n",
      "Epoch 43/150\n",
      "40000/40000 [==============================] - 285s 7ms/step - loss: 1.4542 - acc: 0.5141 - val_loss: 1.4138 - val_acc: 0.5307\n",
      "Epoch 44/150\n",
      "40000/40000 [==============================] - 285s 7ms/step - loss: 1.4464 - acc: 0.5202 - val_loss: 1.4179 - val_acc: 0.5277\n",
      "Epoch 45/150\n",
      "40000/40000 [==============================] - 284s 7ms/step - loss: 1.4337 - acc: 0.5248 - val_loss: 1.4149 - val_acc: 0.5340\n",
      "Epoch 46/150\n",
      "40000/40000 [==============================] - 284s 7ms/step - loss: 1.4212 - acc: 0.5293 - val_loss: 1.4499 - val_acc: 0.5233\n",
      "Epoch 47/150\n",
      "40000/40000 [==============================] - 285s 7ms/step - loss: 1.4157 - acc: 0.5319 - val_loss: 1.4222 - val_acc: 0.5262\n",
      "Epoch 48/150\n",
      "40000/40000 [==============================] - 284s 7ms/step - loss: 1.4041 - acc: 0.5365 - val_loss: 1.4184 - val_acc: 0.5399\n",
      "Epoch 49/150\n",
      "40000/40000 [==============================] - 285s 7ms/step - loss: 1.3930 - acc: 0.5423 - val_loss: 1.3727 - val_acc: 0.5516\n",
      "Epoch 50/150\n",
      "40000/40000 [==============================] - 283s 7ms/step - loss: 1.3828 - acc: 0.5445 - val_loss: 1.3908 - val_acc: 0.5414\n",
      "Epoch 51/150\n",
      "40000/40000 [==============================] - 328s 8ms/step - loss: 1.3800 - acc: 0.5468 - val_loss: 1.3694 - val_acc: 0.5526\n",
      "Epoch 52/150\n",
      "40000/40000 [==============================] - 311s 8ms/step - loss: 1.3715 - acc: 0.5473 - val_loss: 1.4346 - val_acc: 0.5307\n",
      "Epoch 53/150\n",
      "40000/40000 [==============================] - 308s 8ms/step - loss: 1.3594 - acc: 0.5550 - val_loss: 1.3328 - val_acc: 0.5612\n",
      "Epoch 54/150\n",
      "40000/40000 [==============================] - 308s 8ms/step - loss: 1.3517 - acc: 0.5578 - val_loss: 1.3111 - val_acc: 0.5700\n",
      "Epoch 55/150\n",
      "40000/40000 [==============================] - 308s 8ms/step - loss: 1.3423 - acc: 0.5619 - val_loss: 1.2939 - val_acc: 0.5762\n",
      "Epoch 56/150\n",
      "40000/40000 [==============================] - 308s 8ms/step - loss: 1.3309 - acc: 0.5643 - val_loss: 1.3889 - val_acc: 0.5440\n",
      "Epoch 57/150\n",
      "40000/40000 [==============================] - 308s 8ms/step - loss: 1.3252 - acc: 0.5647 - val_loss: 1.3018 - val_acc: 0.5760\n",
      "Epoch 58/150\n",
      "40000/40000 [==============================] - 308s 8ms/step - loss: 1.3167 - acc: 0.5722 - val_loss: 1.3033 - val_acc: 0.5762\n",
      "Epoch 59/150\n",
      "40000/40000 [==============================] - 309s 8ms/step - loss: 1.3123 - acc: 0.5726 - val_loss: 1.3090 - val_acc: 0.5791\n",
      "Epoch 60/150\n",
      "40000/40000 [==============================] - 308s 8ms/step - loss: 1.3052 - acc: 0.5765 - val_loss: 1.3105 - val_acc: 0.5800\n",
      "Epoch 61/150\n",
      "40000/40000 [==============================] - 308s 8ms/step - loss: 1.2963 - acc: 0.5793 - val_loss: 1.2709 - val_acc: 0.5907\n",
      "Epoch 62/150\n",
      "40000/40000 [==============================] - 308s 8ms/step - loss: 1.2880 - acc: 0.5801 - val_loss: 1.2810 - val_acc: 0.5866\n",
      "Epoch 63/150\n",
      "40000/40000 [==============================] - 310s 8ms/step - loss: 1.2791 - acc: 0.5858 - val_loss: 1.2943 - val_acc: 0.5859\n",
      "Epoch 64/150\n",
      "40000/40000 [==============================] - 307s 8ms/step - loss: 1.2779 - acc: 0.5873 - val_loss: 1.2448 - val_acc: 0.5987\n",
      "Epoch 65/150\n",
      "40000/40000 [==============================] - 306s 8ms/step - loss: 1.2665 - acc: 0.5882 - val_loss: 1.2066 - val_acc: 0.6124\n",
      "Epoch 66/150\n",
      "40000/40000 [==============================] - 306s 8ms/step - loss: 1.2610 - acc: 0.5944 - val_loss: 1.2791 - val_acc: 0.5909\n",
      "Epoch 67/150\n",
      "40000/40000 [==============================] - 307s 8ms/step - loss: 1.2507 - acc: 0.5965 - val_loss: 1.2286 - val_acc: 0.6073\n",
      "Epoch 68/150\n",
      "40000/40000 [==============================] - 313s 8ms/step - loss: 1.2465 - acc: 0.5994 - val_loss: 1.2619 - val_acc: 0.5925\n",
      "Epoch 69/150\n",
      "40000/40000 [==============================] - 308s 8ms/step - loss: 1.2399 - acc: 0.6008 - val_loss: 1.2315 - val_acc: 0.6081\n",
      "Epoch 70/150\n",
      "40000/40000 [==============================] - 310s 8ms/step - loss: 1.2368 - acc: 0.6023 - val_loss: 1.1928 - val_acc: 0.6146\n",
      "Epoch 71/150\n",
      "40000/40000 [==============================] - 309s 8ms/step - loss: 1.2290 - acc: 0.6070 - val_loss: 1.2374 - val_acc: 0.6008\n",
      "Epoch 72/150\n",
      "40000/40000 [==============================] - 309s 8ms/step - loss: 1.2262 - acc: 0.6069 - val_loss: 1.1930 - val_acc: 0.6214\n",
      "Epoch 73/150\n",
      "40000/40000 [==============================] - 311s 8ms/step - loss: 1.2162 - acc: 0.6114 - val_loss: 1.1670 - val_acc: 0.6264\n",
      "Epoch 74/150\n",
      "40000/40000 [==============================] - 308s 8ms/step - loss: 1.2085 - acc: 0.6121 - val_loss: 1.1583 - val_acc: 0.6355\n",
      "Epoch 75/150\n",
      "40000/40000 [==============================] - 309s 8ms/step - loss: 1.2038 - acc: 0.6162 - val_loss: 1.1534 - val_acc: 0.6344\n",
      "Epoch 76/150\n",
      "40000/40000 [==============================] - 316s 8ms/step - loss: 1.1973 - acc: 0.6174 - val_loss: 1.1634 - val_acc: 0.6288\n",
      "Epoch 77/150\n",
      "40000/40000 [==============================] - 288s 7ms/step - loss: 1.1955 - acc: 0.6179 - val_loss: 1.1537 - val_acc: 0.6320\n",
      "Epoch 78/150\n",
      "40000/40000 [==============================] - 287s 7ms/step - loss: 1.1829 - acc: 0.6243 - val_loss: 1.1992 - val_acc: 0.6263\n",
      "Epoch 79/150\n",
      "40000/40000 [==============================] - 286s 7ms/step - loss: 1.1762 - acc: 0.6253 - val_loss: 1.2012 - val_acc: 0.6176\n",
      "Epoch 80/150\n",
      "40000/40000 [==============================] - 287s 7ms/step - loss: 1.1754 - acc: 0.6266 - val_loss: 1.1271 - val_acc: 0.6465\n",
      "Epoch 81/150\n",
      "40000/40000 [==============================] - 286s 7ms/step - loss: 1.1692 - acc: 0.6289 - val_loss: 1.1820 - val_acc: 0.6220\n",
      "Epoch 82/150\n",
      "40000/40000 [==============================] - 286s 7ms/step - loss: 1.1572 - acc: 0.6311 - val_loss: 1.1314 - val_acc: 0.6412\n",
      "Epoch 83/150\n",
      "40000/40000 [==============================] - 287s 7ms/step - loss: 1.1590 - acc: 0.6337 - val_loss: 1.1248 - val_acc: 0.6452\n",
      "Epoch 84/150\n",
      "40000/40000 [==============================] - 286s 7ms/step - loss: 1.1510 - acc: 0.6348 - val_loss: 1.1548 - val_acc: 0.6325\n",
      "Epoch 85/150\n",
      "40000/40000 [==============================] - 286s 7ms/step - loss: 1.1445 - acc: 0.6388 - val_loss: 1.1541 - val_acc: 0.6362\n",
      "Epoch 86/150\n",
      "40000/40000 [==============================] - 290s 7ms/step - loss: 1.1440 - acc: 0.6377 - val_loss: 1.1103 - val_acc: 0.6555\n",
      "Epoch 87/150\n",
      "40000/40000 [==============================] - 285s 7ms/step - loss: 1.1406 - acc: 0.6390 - val_loss: 1.1031 - val_acc: 0.6496\n",
      "Epoch 88/150\n",
      "40000/40000 [==============================] - 285s 7ms/step - loss: 1.1302 - acc: 0.6432 - val_loss: 1.2193 - val_acc: 0.6208\n",
      "Epoch 89/150\n",
      "40000/40000 [==============================] - 284s 7ms/step - loss: 1.1282 - acc: 0.6442 - val_loss: 1.1754 - val_acc: 0.6320\n",
      "Epoch 90/150\n",
      "40000/40000 [==============================] - 285s 7ms/step - loss: 1.1217 - acc: 0.6455 - val_loss: 1.1064 - val_acc: 0.6496\n",
      "Epoch 91/150\n",
      "40000/40000 [==============================] - 285s 7ms/step - loss: 1.1170 - acc: 0.6491 - val_loss: 1.1100 - val_acc: 0.6533\n",
      "Epoch 92/150\n",
      "40000/40000 [==============================] - 284s 7ms/step - loss: 1.1106 - acc: 0.6529 - val_loss: 1.0854 - val_acc: 0.6561\n",
      "Epoch 93/150\n",
      "40000/40000 [==============================] - 284s 7ms/step - loss: 1.1066 - acc: 0.6502 - val_loss: 1.1173 - val_acc: 0.6472\n",
      "Epoch 94/150\n",
      "40000/40000 [==============================] - 284s 7ms/step - loss: 1.1037 - acc: 0.6517 - val_loss: 1.1358 - val_acc: 0.6418\n",
      "Epoch 95/150\n",
      "40000/40000 [==============================] - 284s 7ms/step - loss: 1.1003 - acc: 0.6546 - val_loss: 1.1222 - val_acc: 0.6500\n",
      "Epoch 96/150\n",
      "40000/40000 [==============================] - 282s 7ms/step - loss: 1.0875 - acc: 0.6596 - val_loss: 1.0845 - val_acc: 0.6553\n",
      "Epoch 97/150\n",
      "40000/40000 [==============================] - 285s 7ms/step - loss: 1.0889 - acc: 0.6585 - val_loss: 1.0962 - val_acc: 0.6570\n",
      "Epoch 98/150\n",
      "40000/40000 [==============================] - 285s 7ms/step - loss: 1.0835 - acc: 0.6615 - val_loss: 1.0788 - val_acc: 0.6616\n",
      "Epoch 99/150\n",
      "40000/40000 [==============================] - 286s 7ms/step - loss: 1.0786 - acc: 0.6637 - val_loss: 1.0549 - val_acc: 0.6740\n",
      "Epoch 100/150\n",
      "40000/40000 [==============================] - 285s 7ms/step - loss: 1.0692 - acc: 0.6659 - val_loss: 1.0684 - val_acc: 0.6672\n",
      "Epoch 101/150\n",
      "40000/40000 [==============================] - 285s 7ms/step - loss: 1.0710 - acc: 0.6641 - val_loss: 1.0674 - val_acc: 0.6668\n",
      "Epoch 102/150\n",
      "40000/40000 [==============================] - 285s 7ms/step - loss: 1.0613 - acc: 0.6691 - val_loss: 1.0784 - val_acc: 0.6638\n",
      "Epoch 103/150\n",
      "40000/40000 [==============================] - 286s 7ms/step - loss: 1.0613 - acc: 0.6667 - val_loss: 1.1093 - val_acc: 0.6560\n",
      "Epoch 104/150\n",
      "40000/40000 [==============================] - 285s 7ms/step - loss: 1.0529 - acc: 0.6719 - val_loss: 1.0624 - val_acc: 0.6666\n",
      "Epoch 105/150\n",
      "40000/40000 [==============================] - 287s 7ms/step - loss: 1.0540 - acc: 0.6722 - val_loss: 1.1001 - val_acc: 0.6603\n",
      "Epoch 106/150\n",
      "40000/40000 [==============================] - 295s 7ms/step - loss: 1.0462 - acc: 0.6758 - val_loss: 1.0874 - val_acc: 0.6617\n",
      "Epoch 107/150\n",
      "40000/40000 [==============================] - 289s 7ms/step - loss: 1.0451 - acc: 0.6755 - val_loss: 1.0393 - val_acc: 0.6796\n",
      "Epoch 108/150\n",
      "40000/40000 [==============================] - 287s 7ms/step - loss: 1.0402 - acc: 0.6783 - val_loss: 1.0621 - val_acc: 0.6716\n",
      "Epoch 109/150\n",
      "40000/40000 [==============================] - 287s 7ms/step - loss: 1.0367 - acc: 0.6785 - val_loss: 1.0283 - val_acc: 0.6837\n",
      "Epoch 110/150\n",
      "40000/40000 [==============================] - 287s 7ms/step - loss: 1.0320 - acc: 0.6804 - val_loss: 1.0460 - val_acc: 0.6737\n",
      "Epoch 111/150\n",
      "40000/40000 [==============================] - 288s 7ms/step - loss: 1.0270 - acc: 0.6812 - val_loss: 1.0472 - val_acc: 0.6729\n",
      "Epoch 112/150\n",
      "40000/40000 [==============================] - 288s 7ms/step - loss: 1.0249 - acc: 0.6825 - val_loss: 1.0380 - val_acc: 0.6810\n",
      "Epoch 113/150\n",
      "40000/40000 [==============================] - 287s 7ms/step - loss: 1.0206 - acc: 0.6828 - val_loss: 1.0070 - val_acc: 0.6883\n",
      "Epoch 114/150\n",
      "40000/40000 [==============================] - 289s 7ms/step - loss: 1.0196 - acc: 0.6835 - val_loss: 1.0733 - val_acc: 0.6619\n",
      "Epoch 115/150\n",
      "40000/40000 [==============================] - 287s 7ms/step - loss: 1.0117 - acc: 0.6887 - val_loss: 1.0248 - val_acc: 0.6857\n",
      "Epoch 116/150\n",
      "40000/40000 [==============================] - 285s 7ms/step - loss: 1.0040 - acc: 0.6922 - val_loss: 1.0482 - val_acc: 0.6730\n",
      "Epoch 117/150\n"
     ]
    },
    {
     "name": "stdout",
     "output_type": "stream",
     "text": [
      "40000/40000 [==============================] - 284s 7ms/step - loss: 1.0004 - acc: 0.6902 - val_loss: 1.0681 - val_acc: 0.6643\n",
      "Epoch 118/150\n",
      "40000/40000 [==============================] - 289s 7ms/step - loss: 0.9997 - acc: 0.6922 - val_loss: 1.0246 - val_acc: 0.6825\n",
      "Epoch 119/150\n",
      "40000/40000 [==============================] - 284s 7ms/step - loss: 0.9990 - acc: 0.6932 - val_loss: 1.0401 - val_acc: 0.6815\n",
      "Epoch 120/150\n",
      "40000/40000 [==============================] - 285s 7ms/step - loss: 0.9949 - acc: 0.6927 - val_loss: 1.0182 - val_acc: 0.6838\n",
      "Epoch 121/150\n",
      "40000/40000 [==============================] - 288s 7ms/step - loss: 0.9888 - acc: 0.6968 - val_loss: 1.0073 - val_acc: 0.6902\n",
      "Epoch 122/150\n",
      "40000/40000 [==============================] - 283s 7ms/step - loss: 0.9923 - acc: 0.6939 - val_loss: 1.0130 - val_acc: 0.6880\n",
      "Epoch 123/150\n",
      "40000/40000 [==============================] - 284s 7ms/step - loss: 0.9847 - acc: 0.6967 - val_loss: 1.0801 - val_acc: 0.6684\n",
      "Epoch 124/150\n",
      "40000/40000 [==============================] - 286s 7ms/step - loss: 0.9796 - acc: 0.6980 - val_loss: 1.0250 - val_acc: 0.6830\n",
      "Epoch 125/150\n",
      "40000/40000 [==============================] - 285s 7ms/step - loss: 0.9792 - acc: 0.6976 - val_loss: 1.0130 - val_acc: 0.6872\n",
      "Epoch 126/150\n",
      "40000/40000 [==============================] - 286s 7ms/step - loss: 0.9709 - acc: 0.7042 - val_loss: 1.0453 - val_acc: 0.6758\n",
      "Epoch 127/150\n",
      "40000/40000 [==============================] - 286s 7ms/step - loss: 0.9685 - acc: 0.7011 - val_loss: 1.0484 - val_acc: 0.6782\n",
      "Epoch 128/150\n",
      "40000/40000 [==============================] - 330s 8ms/step - loss: 0.9677 - acc: 0.7037 - val_loss: 1.0006 - val_acc: 0.6996\n",
      "Epoch 129/150\n",
      "40000/40000 [==============================] - 299s 7ms/step - loss: 0.9586 - acc: 0.7056 - val_loss: 0.9908 - val_acc: 0.6953\n",
      "Epoch 130/150\n",
      "40000/40000 [==============================] - 286s 7ms/step - loss: 0.9539 - acc: 0.7089 - val_loss: 0.9938 - val_acc: 0.6985\n",
      "Epoch 131/150\n",
      "40000/40000 [==============================] - 287s 7ms/step - loss: 0.9526 - acc: 0.7073 - val_loss: 1.0343 - val_acc: 0.6795\n",
      "Epoch 132/150\n",
      "40000/40000 [==============================] - 289s 7ms/step - loss: 0.9466 - acc: 0.7106 - val_loss: 0.9869 - val_acc: 0.7001\n",
      "Epoch 133/150\n",
      "40000/40000 [==============================] - 292s 7ms/step - loss: 0.9493 - acc: 0.7097 - val_loss: 1.0181 - val_acc: 0.6904\n",
      "Epoch 134/150\n",
      "40000/40000 [==============================] - 295s 7ms/step - loss: 0.9422 - acc: 0.7128 - val_loss: 1.0187 - val_acc: 0.6916\n",
      "Epoch 135/150\n",
      "40000/40000 [==============================] - 292s 7ms/step - loss: 0.9428 - acc: 0.7141 - val_loss: 1.0608 - val_acc: 0.6758\n",
      "Epoch 136/150\n",
      "40000/40000 [==============================] - 291s 7ms/step - loss: 0.9373 - acc: 0.7121 - val_loss: 1.0149 - val_acc: 0.6964\n",
      "Epoch 137/150\n",
      "40000/40000 [==============================] - 294s 7ms/step - loss: 0.9324 - acc: 0.7152 - val_loss: 1.0110 - val_acc: 0.6938\n",
      "Epoch 138/150\n",
      "40000/40000 [==============================] - 304s 8ms/step - loss: 0.9278 - acc: 0.7176 - val_loss: 1.0084 - val_acc: 0.6924\n",
      "Epoch 139/150\n",
      "40000/40000 [==============================] - 286s 7ms/step - loss: 0.9272 - acc: 0.7164 - val_loss: 1.0147 - val_acc: 0.6924\n",
      "Epoch 140/150\n",
      "40000/40000 [==============================] - 286s 7ms/step - loss: 0.9240 - acc: 0.7165 - val_loss: 1.0878 - val_acc: 0.6614\n",
      "Epoch 141/150\n",
      "40000/40000 [==============================] - 284s 7ms/step - loss: 0.9233 - acc: 0.7206 - val_loss: 1.0003 - val_acc: 0.6985\n",
      "Epoch 142/150\n",
      "40000/40000 [==============================] - 284s 7ms/step - loss: 0.9205 - acc: 0.7232 - val_loss: 1.0434 - val_acc: 0.6849\n",
      "Epoch 143/150\n",
      "40000/40000 [==============================] - 285s 7ms/step - loss: 0.9131 - acc: 0.7217 - val_loss: 0.9856 - val_acc: 0.7031\n",
      "Epoch 144/150\n",
      "40000/40000 [==============================] - 285s 7ms/step - loss: 0.9138 - acc: 0.7240 - val_loss: 1.0022 - val_acc: 0.6962\n",
      "Epoch 145/150\n",
      "40000/40000 [==============================] - 286s 7ms/step - loss: 0.9087 - acc: 0.7248 - val_loss: 1.0497 - val_acc: 0.6885\n",
      "Epoch 146/150\n",
      "40000/40000 [==============================] - 286s 7ms/step - loss: 0.9063 - acc: 0.7271 - val_loss: 1.0641 - val_acc: 0.6794\n",
      "Epoch 147/150\n",
      "40000/40000 [==============================] - 288s 7ms/step - loss: 0.9029 - acc: 0.7261 - val_loss: 1.0622 - val_acc: 0.6781\n",
      "Epoch 148/150\n",
      "40000/40000 [==============================] - 287s 7ms/step - loss: 0.8988 - acc: 0.7278 - val_loss: 0.9943 - val_acc: 0.7030\n",
      "Epoch 149/150\n",
      "40000/40000 [==============================] - 287s 7ms/step - loss: 0.8975 - acc: 0.7277 - val_loss: 1.0149 - val_acc: 0.6969\n",
      "Epoch 150/150\n",
      "40000/40000 [==============================] - 286s 7ms/step - loss: 0.8966 - acc: 0.7307 - val_loss: 1.0323 - val_acc: 0.6853\n"
     ]
    }
   ],
   "source": [
    "train_history=model.fit(X_img_train_normalize ,y_label_train_OneHot, epochs = 150,validation_split=0.2,verbose=1,batch_size=128,callbacks=cbks)"
   ]
  },
  {
   "cell_type": "code",
   "execution_count": 11,
   "metadata": {},
   "outputs": [
    {
     "name": "stdout",
     "output_type": "stream",
     "text": [
      "10000/10000 [==============================] - 18s 2ms/step\n",
      "Validation loss=1.05886196251\n",
      "Validation accuracy=0.6782\n"
     ]
    }
   ],
   "source": [
    "#X_img_test_normalize\n",
    "#y_label_test_OneHot\n",
    "preds=model.evaluate(X_img_test_normalize,y_label_test_OneHot)\n",
    "print(\"Validation loss=\"+str(preds[0]))\n",
    "print(\"Validation accuracy=\"+str(preds[1]))"
   ]
  },
  {
   "cell_type": "code",
   "execution_count": 12,
   "metadata": {
    "collapsed": true
   },
   "outputs": [],
   "source": [
    "import matplotlib.pyplot as plt\n",
    "def show_train_history(train_history,train,validation):\n",
    "    plt.plot(train_history.history[train])\n",
    "    plt.plot(train_history.history[validation])\n",
    "    plt.title('Train History')\n",
    "    plt.ylabel(train)\n",
    "    plt.xlabel('Epoch')\n",
    "    plt.legend(['train', 'validation'], loc='upper left')\n",
    "    plt.show()"
   ]
  },
  {
   "cell_type": "code",
   "execution_count": 13,
   "metadata": {},
   "outputs": [
    {
     "data": {
      "image/png": "[encoded data removed]",
      "text/plain": [
       "<matplotlib.figure.Figure at 0x13c1b0978>"
      ]
     },
     "metadata": {},
     "output_type": "display_data"
    }
   ],
   "source": [
    "show_train_history(train_history,'acc','val_acc')"
   ]
  },
  {
   "cell_type": "code",
   "execution_count": 14,
   "metadata": {},
   "outputs": [
    {
     "data": {
      "image/png": "[encoded data removed]",
      "text/plain": [
       "<matplotlib.figure.Figure at 0x13c044e10>"
      ]
     },
     "metadata": {},
     "output_type": "display_data"
    }
   ],
   "source": [
    "show_train_history(train_history,'loss','val_loss')"
   ]
  },
  {
   "cell_type": "code",
   "execution_count": 15,
   "metadata": {
    "collapsed": true
   },
   "outputs": [],
   "source": [
    "label_dict={0:\"airplane\",1:\"automobile\",2:\"bird\",3:\"cat\",4:\"deer\",\n",
    "            5:\"dog\",6:\"frog\",7:\"horse\",8:\"ship\",9:\"truck\"}"
   ]
  },
  {
   "cell_type": "code",
   "execution_count": 16,
   "metadata": {
    "collapsed": true
   },
   "outputs": [],
   "source": [
    "import matplotlib.pyplot as plt\n",
    "def plot_images_labels_prediction(images,labels,prediction,\n",
    "                                  idx,num=10):\n",
    "    fig = plt.gcf()\n",
    "    fig.set_size_inches(12, 14)\n",
    "    if num>25: num=25 \n",
    "    for i in range(0, num):\n",
    "        ax=plt.subplot(5,5, 1+i)\n",
    "        ax.imshow(images[idx],cmap='binary')\n",
    "                \n",
    "        title=str(i)+','+label_dict[labels[idx][0]]\n",
    "        if len(prediction)>0:\n",
    "            title+='=>'+label_dict[prediction[idx]]\n",
    "            \n",
    "        ax.set_title(title,fontsize=10) \n",
    "        ax.set_xticks([]);ax.set_yticks([])        \n",
    "        idx+=1 \n",
    "    plt.show()"
   ]
  },
  {
   "cell_type": "code",
   "execution_count": 17,
   "metadata": {},
   "outputs": [
    {
     "name": "stdout",
     "output_type": "stream",
     "text": [
      "10000/10000 [==============================] - 17s 2ms/step\n"
     ]
    }
   ],
   "source": [
    "prediction=model.predict_classes(X_img_test_normalize)"
   ]
  },
  {
   "cell_type": "code",
   "execution_count": 18,
   "metadata": {},
   "outputs": [
    {
     "data": {
      "image/png": "[encoded data removed]",
      "text/plain": [
       "<matplotlib.figure.Figure at 0x12984f860>"
      ]
     },
     "metadata": {},
     "output_type": "display_data"
    }
   ],
   "source": [
    "plot_images_labels_prediction(X_img_test,y_label_test,\n",
    "                              prediction,0,10)"
   ]
  },
  {
   "cell_type": "code",
   "execution_count": 19,
   "metadata": {},
   "outputs": [
    {
     "data": {
      "text/html": [
       "<div>\n",
       "<style>\n",
       "    .dataframe thead tr:only-child th {\n",
       "        text-align: right;\n",
       "    }\n",
       "\n",
       "    .dataframe thead th {\n",
       "        text-align: left;\n",
       "    }\n",
       "\n",
       "    .dataframe tbody tr th {\n",
       "        vertical-align: top;\n",
       "    }\n",
       "</style>\n",
       "<table border=\"1\" class=\"dataframe\">\n",
       "  <thead>\n",
       "    <tr style=\"text-align: right;\">\n",
       "      <th>predicat</th>\n",
       "      <th>0</th>\n",
       "      <th>1</th>\n",
       "      <th>2</th>\n",
       "      <th>3</th>\n",
       "      <th>4</th>\n",
       "      <th>5</th>\n",
       "      <th>6</th>\n",
       "      <th>7</th>\n",
       "      <th>8</th>\n",
       "      <th>9</th>\n",
       "    </tr>\n",
       "    <tr>\n",
       "      <th>label</th>\n",
       "      <th></th>\n",
       "      <th></th>\n",
       "      <th></th>\n",
       "      <th></th>\n",
       "      <th></th>\n",
       "      <th></th>\n",
       "      <th></th>\n",
       "      <th></th>\n",
       "      <th></th>\n",
       "      <th></th>\n",
       "    </tr>\n",
       "  </thead>\n",
       "  <tbody>\n",
       "    <tr>\n",
       "      <th>0</th>\n",
       "      <td>723</td>\n",
       "      <td>27</td>\n",
       "      <td>46</td>\n",
       "      <td>23</td>\n",
       "      <td>10</td>\n",
       "      <td>5</td>\n",
       "      <td>32</td>\n",
       "      <td>11</td>\n",
       "      <td>59</td>\n",
       "      <td>64</td>\n",
       "    </tr>\n",
       "    <tr>\n",
       "      <th>1</th>\n",
       "      <td>13</td>\n",
       "      <td>831</td>\n",
       "      <td>0</td>\n",
       "      <td>6</td>\n",
       "      <td>1</td>\n",
       "      <td>4</td>\n",
       "      <td>20</td>\n",
       "      <td>3</td>\n",
       "      <td>11</td>\n",
       "      <td>111</td>\n",
       "    </tr>\n",
       "    <tr>\n",
       "      <th>2</th>\n",
       "      <td>54</td>\n",
       "      <td>9</td>\n",
       "      <td>514</td>\n",
       "      <td>56</td>\n",
       "      <td>51</td>\n",
       "      <td>61</td>\n",
       "      <td>194</td>\n",
       "      <td>28</td>\n",
       "      <td>12</td>\n",
       "      <td>21</td>\n",
       "    </tr>\n",
       "    <tr>\n",
       "      <th>3</th>\n",
       "      <td>11</td>\n",
       "      <td>16</td>\n",
       "      <td>52</td>\n",
       "      <td>452</td>\n",
       "      <td>23</td>\n",
       "      <td>153</td>\n",
       "      <td>207</td>\n",
       "      <td>38</td>\n",
       "      <td>8</td>\n",
       "      <td>40</td>\n",
       "    </tr>\n",
       "    <tr>\n",
       "      <th>4</th>\n",
       "      <td>19</td>\n",
       "      <td>5</td>\n",
       "      <td>73</td>\n",
       "      <td>74</td>\n",
       "      <td>470</td>\n",
       "      <td>32</td>\n",
       "      <td>225</td>\n",
       "      <td>82</td>\n",
       "      <td>13</td>\n",
       "      <td>7</td>\n",
       "    </tr>\n",
       "    <tr>\n",
       "      <th>5</th>\n",
       "      <td>11</td>\n",
       "      <td>6</td>\n",
       "      <td>29</td>\n",
       "      <td>165</td>\n",
       "      <td>28</td>\n",
       "      <td>562</td>\n",
       "      <td>124</td>\n",
       "      <td>50</td>\n",
       "      <td>7</td>\n",
       "      <td>18</td>\n",
       "    </tr>\n",
       "    <tr>\n",
       "      <th>6</th>\n",
       "      <td>5</td>\n",
       "      <td>5</td>\n",
       "      <td>17</td>\n",
       "      <td>25</td>\n",
       "      <td>6</td>\n",
       "      <td>17</td>\n",
       "      <td>911</td>\n",
       "      <td>5</td>\n",
       "      <td>3</td>\n",
       "      <td>6</td>\n",
       "    </tr>\n",
       "    <tr>\n",
       "      <th>7</th>\n",
       "      <td>15</td>\n",
       "      <td>7</td>\n",
       "      <td>16</td>\n",
       "      <td>36</td>\n",
       "      <td>26</td>\n",
       "      <td>62</td>\n",
       "      <td>44</td>\n",
       "      <td>751</td>\n",
       "      <td>0</td>\n",
       "      <td>43</td>\n",
       "    </tr>\n",
       "    <tr>\n",
       "      <th>8</th>\n",
       "      <td>61</td>\n",
       "      <td>65</td>\n",
       "      <td>7</td>\n",
       "      <td>11</td>\n",
       "      <td>7</td>\n",
       "      <td>6</td>\n",
       "      <td>16</td>\n",
       "      <td>4</td>\n",
       "      <td>768</td>\n",
       "      <td>55</td>\n",
       "    </tr>\n",
       "    <tr>\n",
       "      <th>9</th>\n",
       "      <td>20</td>\n",
       "      <td>105</td>\n",
       "      <td>4</td>\n",
       "      <td>7</td>\n",
       "      <td>1</td>\n",
       "      <td>7</td>\n",
       "      <td>21</td>\n",
       "      <td>19</td>\n",
       "      <td>16</td>\n",
       "      <td>800</td>\n",
       "    </tr>\n",
       "  </tbody>\n",
       "</table>\n",
       "</div>"
      ],
      "text/plain": [
       "predicat    0    1    2    3    4    5    6    7    8    9\n",
       "label                                                     \n",
       "0         723   27   46   23   10    5   32   11   59   64\n",
       "1          13  831    0    6    1    4   20    3   11  111\n",
       "2          54    9  514   56   51   61  194   28   12   21\n",
       "3          11   16   52  452   23  153  207   38    8   40\n",
       "4          19    5   73   74  470   32  225   82   13    7\n",
       "5          11    6   29  165   28  562  124   50    7   18\n",
       "6           5    5   17   25    6   17  911    5    3    6\n",
       "7          15    7   16   36   26   62   44  751    0   43\n",
       "8          61   65    7   11    7    6   16    4  768   55\n",
       "9          20  105    4    7    1    7   21   19   16  800"
      ]
     },
     "execution_count": 19,
     "metadata": {},
     "output_type": "execute_result"
    }
   ],
   "source": [
    "import pandas as pd\n",
    "pd.crosstab(y_label_test.reshape(-1),prediction,\n",
    "            rownames=['label'],colnames=['predicat'])"
   ]
  },
  {
   "cell_type": "code",
   "execution_count": null,
   "metadata": {
    "collapsed": true
   },
   "outputs": [],
   "source": []
  }
 ],
 "metadata": {
  "kernelspec": {
   "display_name": "Python 3",
   "language": "python",
   "name": "python3"
  },
  "language_info": {
   "codemirror_mode": {
    "name": "ipython",
    "version": 3
   },
   "file_extension": ".py",
   "mimetype": "text/x-python",
   "name": "python",
   "nbconvert_exporter": "python",
   "pygments_lexer": "ipython3",
   "version": "3.6.8"
  }
 },
 "nbformat": 4,
 "nbformat_minor": 2
}
