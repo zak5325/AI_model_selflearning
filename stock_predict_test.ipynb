{
 "cells": [
  {
   "cell_type": "code",
   "execution_count": 1,
   "metadata": {},
   "outputs": [],
   "source": [
    "import numpy as np\n",
    "import matplotlib.pyplot as plt  # for 畫圖用\n",
    "import pandas as pd"
   ]
  },
  {
   "cell_type": "code",
   "execution_count": 2,
   "metadata": {},
   "outputs": [],
   "source": [
    "# Import the training set\n",
    "dataset_train = pd.read_csv('Stock_2464_2018_2019.csv')  # 讀取2018~2019年10月訓練集共446筆"
   ]
  },
  {
   "cell_type": "code",
   "execution_count": 3,
   "metadata": {},
   "outputs": [],
   "source": [
    "training_set = dataset_train.iloc[:, 3:4].values  # 取「OPEN」欄位值"
   ]
  },
  {
   "cell_type": "code",
   "execution_count": 4,
   "metadata": {},
   "outputs": [],
   "source": [
    "#標準化\n",
    "from sklearn.preprocessing import MinMaxScaler\n",
    "sc = MinMaxScaler(feature_range = (0, 1))\n",
    "training_set_scaled = sc.fit_transform(training_set)"
   ]
  },
  {
   "cell_type": "code",
   "execution_count": 5,
   "metadata": {},
   "outputs": [
    {
     "data": {
      "text/plain": [
       "(446, 1)"
      ]
     },
     "execution_count": 5,
     "metadata": {},
     "output_type": "execute_result"
    }
   ],
   "source": [
    "training_set_scaled.shape"
   ]
  },
  {
   "cell_type": "code",
   "execution_count": 6,
   "metadata": {},
   "outputs": [],
   "source": [
    "X_train = []   #預測點的前 60 天的資料\n",
    "y_train = []   #預測點\n",
    "for i in range(60, 446):  # 446 是訓練集總數\n",
    "    X_train.append(training_set_scaled[i-60:i, 0]) #取1~60天資料(0~59)作為輸入資訊\n",
    "    y_train.append(training_set_scaled[i, 0])      #取第61天資料(60)作為輸出結果\n",
    "X_train, y_train = np.array(X_train), np.array(y_train)  # 轉成numpy array的格式，以利輸入 RNN"
   ]
  },
  {
   "cell_type": "code",
   "execution_count": 7,
   "metadata": {
    "scrolled": true
   },
   "outputs": [
    {
     "name": "stdout",
     "output_type": "stream",
     "text": [
      "(386, 60)\n",
      "(386,)\n"
     ]
    }
   ],
   "source": [
    "print(X_train.shape)\n",
    "print(y_train.shape)"
   ]
  },
  {
   "cell_type": "code",
   "execution_count": 8,
   "metadata": {},
   "outputs": [
    {
     "data": {
      "text/plain": [
       "(386, 60, 1)"
      ]
     },
     "execution_count": 8,
     "metadata": {},
     "output_type": "execute_result"
    }
   ],
   "source": [
    "X_train = np.reshape(X_train, (X_train.shape[0], X_train.shape[1], 1))\n",
    "X_train.shape #[stock prices, timesteps, indicators]"
   ]
  },
  {
   "cell_type": "code",
   "execution_count": 9,
   "metadata": {},
   "outputs": [
    {
     "name": "stderr",
     "output_type": "stream",
     "text": [
      "Using TensorFlow backend.\n"
     ]
    }
   ],
   "source": [
    "from keras.models import Sequential\n",
    "from keras.layers import Dense\n",
    "from keras.layers import LSTM,SimpleRNN,TimeDistributed,Flatten\n",
    "from keras.layers import Dropout"
   ]
  },
  {
   "cell_type": "code",
   "execution_count": 10,
   "metadata": {},
   "outputs": [],
   "source": [
    "model=Sequential()\n",
    "model.add(LSTM(units = 128, return_sequences = True, input_shape = (X_train.shape[1], 1), activation='sigmoid'))\n",
    "model.add(Dropout(0.2))\n",
    "model.add(LSTM(units =128, return_sequences = True, activation='sigmoid'))\n",
    "#model.add(Dropout(0.2))\n",
    "model.add(LSTM(units = 64, return_sequences = True, activation='sigmoid'))\n",
    "#model.add(Dropout(0.2))\n",
    "model.add(LSTM(units = 32, activation='sigmoid'))\n",
    "#model.add(Dropout(0.2))\n",
    "model.add(Dense(units = 1))"
   ]
  },
  {
   "cell_type": "code",
   "execution_count": 11,
   "metadata": {},
   "outputs": [
    {
     "name": "stdout",
     "output_type": "stream",
     "text": [
      "_________________________________________________________________\n",
      "Layer (type)                 Output Shape              Param #   \n",
      "=================================================================\n",
      "lstm_1 (LSTM)                (None, 60, 128)           66560     \n",
      "_________________________________________________________________\n",
      "dropout_1 (Dropout)          (None, 60, 128)           0         \n",
      "_________________________________________________________________\n",
      "lstm_2 (LSTM)                (None, 60, 128)           131584    \n",
      "_________________________________________________________________\n",
      "lstm_3 (LSTM)                (None, 60, 64)            49408     \n",
      "_________________________________________________________________\n",
      "lstm_4 (LSTM)                (None, 32)                12416     \n",
      "_________________________________________________________________\n",
      "dense_1 (Dense)              (None, 1)                 33        \n",
      "=================================================================\n",
      "Total params: 260,001\n",
      "Trainable params: 260,001\n",
      "Non-trainable params: 0\n",
      "_________________________________________________________________\n",
      "None\n"
     ]
    }
   ],
   "source": [
    "model.compile(optimizer = 'adam', loss = 'mean_squared_error') #使用adam優化器,以及MSE損失函數\n",
    "print(model.summary())"
   ]
  },
  {
   "cell_type": "code",
   "execution_count": 12,
   "metadata": {},
   "outputs": [
    {
     "name": "stdout",
     "output_type": "stream",
     "text": [
      "Epoch 1/100\n",
      "386/386 [==============================] - 4s 11ms/step - loss: 0.0307\n",
      "Epoch 2/100\n",
      "386/386 [==============================] - 2s 6ms/step - loss: 0.0251\n",
      "Epoch 3/100\n",
      "386/386 [==============================] - 2s 6ms/step - loss: 0.0249\n",
      "Epoch 4/100\n",
      "386/386 [==============================] - 3s 7ms/step - loss: 0.0246\n",
      "Epoch 5/100\n",
      "386/386 [==============================] - 3s 6ms/step - loss: 0.0249\n",
      "Epoch 6/100\n",
      "386/386 [==============================] - 3s 7ms/step - loss: 0.0247\n",
      "Epoch 7/100\n",
      "386/386 [==============================] - 3s 7ms/step - loss: 0.0258\n",
      "Epoch 8/100\n",
      "386/386 [==============================] - 3s 7ms/step - loss: 0.0245\n",
      "Epoch 9/100\n",
      "386/386 [==============================] - 3s 7ms/step - loss: 0.0247\n",
      "Epoch 10/100\n",
      "386/386 [==============================] - 3s 7ms/step - loss: 0.0252\n",
      "Epoch 11/100\n",
      "386/386 [==============================] - 3s 7ms/step - loss: 0.0261\n",
      "Epoch 12/100\n",
      "386/386 [==============================] - 3s 7ms/step - loss: 0.0246\n",
      "Epoch 13/100\n",
      "386/386 [==============================] - 3s 7ms/step - loss: 0.0259\n",
      "Epoch 14/100\n",
      "386/386 [==============================] - 3s 7ms/step - loss: 0.0267\n",
      "Epoch 15/100\n",
      "386/386 [==============================] - 3s 7ms/step - loss: 0.0267\n",
      "Epoch 16/100\n",
      "386/386 [==============================] - 3s 7ms/step - loss: 0.0253\n",
      "Epoch 17/100\n",
      "386/386 [==============================] - 3s 7ms/step - loss: 0.0255\n",
      "Epoch 18/100\n",
      "386/386 [==============================] - 3s 7ms/step - loss: 0.0256\n",
      "Epoch 19/100\n",
      "386/386 [==============================] - 3s 7ms/step - loss: 0.0254\n",
      "Epoch 20/100\n",
      "386/386 [==============================] - 3s 7ms/step - loss: 0.0250\n",
      "Epoch 21/100\n",
      "386/386 [==============================] - 3s 7ms/step - loss: 0.0249\n",
      "Epoch 22/100\n",
      "386/386 [==============================] - 3s 7ms/step - loss: 0.0244\n",
      "Epoch 23/100\n",
      "386/386 [==============================] - 3s 7ms/step - loss: 0.0251\n",
      "Epoch 24/100\n",
      "386/386 [==============================] - 3s 7ms/step - loss: 0.0246\n",
      "Epoch 25/100\n",
      "386/386 [==============================] - 3s 7ms/step - loss: 0.0248\n",
      "Epoch 26/100\n",
      "386/386 [==============================] - 3s 7ms/step - loss: 0.0253\n",
      "Epoch 27/100\n",
      "386/386 [==============================] - 3s 7ms/step - loss: 0.0244\n",
      "Epoch 28/100\n",
      "386/386 [==============================] - 3s 7ms/step - loss: 0.0243\n",
      "Epoch 29/100\n",
      "386/386 [==============================] - 3s 7ms/step - loss: 0.0258\n",
      "Epoch 30/100\n",
      "386/386 [==============================] - 3s 7ms/step - loss: 0.0254\n",
      "Epoch 31/100\n",
      "386/386 [==============================] - 3s 7ms/step - loss: 0.0249\n",
      "Epoch 32/100\n",
      "386/386 [==============================] - 3s 7ms/step - loss: 0.0249\n",
      "Epoch 33/100\n",
      "386/386 [==============================] - 3s 7ms/step - loss: 0.0235\n",
      "Epoch 34/100\n",
      "386/386 [==============================] - 3s 7ms/step - loss: 0.0219\n",
      "Epoch 35/100\n",
      "386/386 [==============================] - 3s 7ms/step - loss: 0.0165\n",
      "Epoch 36/100\n",
      "386/386 [==============================] - 3s 7ms/step - loss: 0.0191\n",
      "Epoch 37/100\n",
      "386/386 [==============================] - 3s 7ms/step - loss: 0.0126\n",
      "Epoch 38/100\n",
      "386/386 [==============================] - 3s 7ms/step - loss: 0.0104\n",
      "Epoch 39/100\n",
      "386/386 [==============================] - 3s 7ms/step - loss: 0.0068\n",
      "Epoch 40/100\n",
      "386/386 [==============================] - 3s 7ms/step - loss: 0.0081\n",
      "Epoch 41/100\n",
      "386/386 [==============================] - 3s 7ms/step - loss: 0.0059\n",
      "Epoch 42/100\n",
      "386/386 [==============================] - 3s 7ms/step - loss: 0.0054\n",
      "Epoch 43/100\n",
      "386/386 [==============================] - 3s 7ms/step - loss: 0.0074\n",
      "Epoch 44/100\n",
      "386/386 [==============================] - 3s 7ms/step - loss: 0.0072\n",
      "Epoch 45/100\n",
      "386/386 [==============================] - 3s 7ms/step - loss: 0.0048\n",
      "Epoch 46/100\n",
      "386/386 [==============================] - 3s 7ms/step - loss: 0.0046\n",
      "Epoch 47/100\n",
      "386/386 [==============================] - 3s 7ms/step - loss: 0.0043\n",
      "Epoch 48/100\n",
      "386/386 [==============================] - 3s 7ms/step - loss: 0.0049\n",
      "Epoch 49/100\n",
      "386/386 [==============================] - 2s 6ms/step - loss: 0.0045\n",
      "Epoch 50/100\n",
      "386/386 [==============================] - 3s 7ms/step - loss: 0.0035\n",
      "Epoch 51/100\n",
      "386/386 [==============================] - 3s 7ms/step - loss: 0.0038\n",
      "Epoch 52/100\n",
      "386/386 [==============================] - 3s 7ms/step - loss: 0.0040\n",
      "Epoch 53/100\n",
      "386/386 [==============================] - 3s 7ms/step - loss: 0.0037\n",
      "Epoch 54/100\n",
      "386/386 [==============================] - 3s 7ms/step - loss: 0.0062\n",
      "Epoch 55/100\n",
      "386/386 [==============================] - 3s 7ms/step - loss: 0.0038\n",
      "Epoch 56/100\n",
      "386/386 [==============================] - 3s 7ms/step - loss: 0.0039\n",
      "Epoch 57/100\n",
      "386/386 [==============================] - 3s 7ms/step - loss: 0.0038\n",
      "Epoch 58/100\n",
      "386/386 [==============================] - 3s 7ms/step - loss: 0.0033\n",
      "Epoch 59/100\n",
      "386/386 [==============================] - 3s 7ms/step - loss: 0.0034\n",
      "Epoch 60/100\n",
      "386/386 [==============================] - 3s 7ms/step - loss: 0.0032\n",
      "Epoch 61/100\n",
      "386/386 [==============================] - 3s 7ms/step - loss: 0.0029\n",
      "Epoch 62/100\n",
      "386/386 [==============================] - 3s 7ms/step - loss: 0.0039\n",
      "Epoch 63/100\n",
      "386/386 [==============================] - 3s 7ms/step - loss: 0.0030\n",
      "Epoch 64/100\n",
      "386/386 [==============================] - 3s 7ms/step - loss: 0.0042\n",
      "Epoch 65/100\n",
      "386/386 [==============================] - 3s 7ms/step - loss: 0.0035\n",
      "Epoch 66/100\n",
      "386/386 [==============================] - 3s 7ms/step - loss: 0.0030\n",
      "Epoch 67/100\n",
      "386/386 [==============================] - 3s 7ms/step - loss: 0.0029\n",
      "Epoch 68/100\n",
      "386/386 [==============================] - 3s 7ms/step - loss: 0.0043\n",
      "Epoch 69/100\n",
      "386/386 [==============================] - 3s 7ms/step - loss: 0.0032\n",
      "Epoch 70/100\n",
      "386/386 [==============================] - 3s 7ms/step - loss: 0.0036\n",
      "Epoch 71/100\n",
      "386/386 [==============================] - 3s 7ms/step - loss: 0.0030\n",
      "Epoch 72/100\n",
      "386/386 [==============================] - 3s 7ms/step - loss: 0.0031\n",
      "Epoch 73/100\n",
      "386/386 [==============================] - 3s 7ms/step - loss: 0.0030\n",
      "Epoch 74/100\n",
      "386/386 [==============================] - 3s 7ms/step - loss: 0.0033\n",
      "Epoch 75/100\n",
      "386/386 [==============================] - 3s 7ms/step - loss: 0.0047\n",
      "Epoch 76/100\n",
      "386/386 [==============================] - 3s 7ms/step - loss: 0.0031\n",
      "Epoch 77/100\n",
      "386/386 [==============================] - 3s 7ms/step - loss: 0.0032\n",
      "Epoch 78/100\n",
      "386/386 [==============================] - 3s 7ms/step - loss: 0.0032\n",
      "Epoch 79/100\n",
      "386/386 [==============================] - 3s 7ms/step - loss: 0.0031\n",
      "Epoch 80/100\n",
      "386/386 [==============================] - 3s 7ms/step - loss: 0.0030\n",
      "Epoch 81/100\n",
      "386/386 [==============================] - 3s 7ms/step - loss: 0.0034\n",
      "Epoch 82/100\n",
      "386/386 [==============================] - 3s 7ms/step - loss: 0.0028\n",
      "Epoch 83/100\n",
      "386/386 [==============================] - 3s 8ms/step - loss: 0.0031\n",
      "Epoch 84/100\n",
      "386/386 [==============================] - 3s 7ms/step - loss: 0.0036\n",
      "Epoch 85/100\n",
      "386/386 [==============================] - 3s 7ms/step - loss: 0.0037\n",
      "Epoch 86/100\n",
      "386/386 [==============================] - 3s 7ms/step - loss: 0.0029\n",
      "Epoch 87/100\n",
      "386/386 [==============================] - 3s 7ms/step - loss: 0.0030\n",
      "Epoch 88/100\n",
      "386/386 [==============================] - 3s 7ms/step - loss: 0.0030\n",
      "Epoch 89/100\n",
      "386/386 [==============================] - 3s 7ms/step - loss: 0.0027\n",
      "Epoch 90/100\n",
      "386/386 [==============================] - 3s 7ms/step - loss: 0.0032\n",
      "Epoch 91/100\n",
      "386/386 [==============================] - 3s 7ms/step - loss: 0.0031\n",
      "Epoch 92/100\n",
      "386/386 [==============================] - 3s 7ms/step - loss: 0.0026\n",
      "Epoch 93/100\n",
      "386/386 [==============================] - 3s 7ms/step - loss: 0.0030\n",
      "Epoch 94/100\n",
      "386/386 [==============================] - 3s 7ms/step - loss: 0.0031\n",
      "Epoch 95/100\n",
      "386/386 [==============================] - 3s 7ms/step - loss: 0.0031\n",
      "Epoch 96/100\n",
      "386/386 [==============================] - 3s 7ms/step - loss: 0.0029\n",
      "Epoch 97/100\n",
      "386/386 [==============================] - 3s 7ms/step - loss: 0.0037\n",
      "Epoch 98/100\n",
      "386/386 [==============================] - 3s 7ms/step - loss: 0.0029\n",
      "Epoch 99/100\n"
     ]
    },
    {
     "name": "stdout",
     "output_type": "stream",
     "text": [
      "386/386 [==============================] - 3s 8ms/step - loss: 0.0028\n",
      "Epoch 100/100\n",
      "386/386 [==============================] - 3s 7ms/step - loss: 0.0028\n"
     ]
    }
   ],
   "source": [
    "train_history=model.fit(X_train, y_train, epochs = 100, batch_size = 32)"
   ]
  },
  {
   "cell_type": "code",
   "execution_count": 13,
   "metadata": {},
   "outputs": [],
   "source": [
    "dataset_test = pd.read_csv('STOCK_2464_2019_12.csv')#當前11月及12月前8資料共29筆"
   ]
  },
  {
   "cell_type": "code",
   "execution_count": 14,
   "metadata": {},
   "outputs": [
    {
     "data": {
      "text/plain": [
       "(415,)"
      ]
     },
     "execution_count": 14,
     "metadata": {},
     "output_type": "execute_result"
    }
   ],
   "source": [
    "dataset_total = pd.concat((dataset_train['OPEN'], dataset_test['OPEN']), axis = 0)#將訓練資料+測試資料集結共475筆\n",
    "real_stock_price=dataset_total[60:]#取得總資料集第61天後資料作為真實,共415筆\n",
    "real_stock_price=np.array(real_stock_price)\n",
    "real_stock_price.shape"
   ]
  },
  {
   "cell_type": "code",
   "execution_count": 15,
   "metadata": {
    "scrolled": true
   },
   "outputs": [
    {
     "data": {
      "text/plain": [
       "(475, 1)"
      ]
     },
     "execution_count": 15,
     "metadata": {},
     "output_type": "execute_result"
    }
   ],
   "source": [
    "inputs = dataset_total[:].values #取所有資料作為input資訊\n",
    "inputs = inputs.reshape(-1,1)\n",
    "inputs = sc.transform(inputs) # Feature Scaling\n",
    "outputs=[]\n",
    "outputs = np.array(outputs)\n",
    "inputs.shape"
   ]
  },
  {
   "cell_type": "code",
   "execution_count": 16,
   "metadata": {},
   "outputs": [],
   "source": [
    "#下排迴圈作為控制取用範圍,將1~60天資料作為X_test去預測第61天資料,以迴圈逐步選取範圍\n",
    "#將總資料1~60筆投入預測知道61天,2~61筆預測62天,逐步推算至475天,將預測資料與真實資料(61天後)做比對\n",
    "#已知倒數29天為測試資料,會以59天訓練資料+1天測試資料 -> 58天訓練資料+2天測試資料逐步推算預測數值"
   ]
  },
  {
   "cell_type": "code",
   "execution_count": 17,
   "metadata": {},
   "outputs": [],
   "source": [
    "for i in range (60,475):\n",
    "    X_test = []\n",
    "    X_test.append(inputs[i-60:i])\n",
    "    X_test = np.array(X_test)\n",
    "    X_test = np.reshape(X_test, (X_test.shape[0], X_test.shape[1], 1))\n",
    "    #print(inputs.shape)\n",
    "    predicted_stock_price = model.predict(X_test)\n",
    "    outputs=np.append(outputs,predicted_stock_price)\n",
    "    #predicted_stock_price = sc.inverse_transform(predicted_stock_price)\n",
    "    #print(predicted_stock_price)"
   ]
  },
  {
   "cell_type": "code",
   "execution_count": 18,
   "metadata": {},
   "outputs": [
    {
     "data": {
      "text/plain": [
       "(415, 1)"
      ]
     },
     "execution_count": 18,
     "metadata": {},
     "output_type": "execute_result"
    }
   ],
   "source": [
    "#還原已標準化數值\n",
    "outputs_real_value = sc.inverse_transform(outputs.reshape(-1,1))\n",
    "#inputs_real_value = inputs_real_value[len(inputs_real_value):]\n",
    "outputs_real_value.shape"
   ]
  },
  {
   "cell_type": "code",
   "execution_count": 19,
   "metadata": {},
   "outputs": [
    {
     "name": "stdout",
     "output_type": "stream",
     "text": [
      "(415,)\n",
      "(415, 1)\n"
     ]
    }
   ],
   "source": [
    "print(real_stock_price.shape)\n",
    "print(outputs_real_value.shape)"
   ]
  },
  {
   "cell_type": "code",
   "execution_count": 20,
   "metadata": {},
   "outputs": [
    {
     "data": {
      "image/png": "[encoded data removed]",
      "text/plain": [
       "<Figure size 432x288 with 1 Axes>"
      ]
     },
     "metadata": {
      "needs_background": "light"
     },
     "output_type": "display_data"
    }
   ],
   "source": [
    "# Visualising the results\n",
    "plt.plot(real_stock_price, color = 'red', label = 'Real 2464 Stock Price')  # 紅線表示真實股價\n",
    "plt.plot(outputs_real_value, color = 'blue', label = 'Predicted 2464 Stock Price')  # 藍線表示預測股價\n",
    "plt.title('2464 Stock Price Prediction')\n",
    "plt.xlabel('Time')\n",
    "plt.ylabel('2464 Stock Price')\n",
    "plt.legend()\n",
    "plt.show()"
   ]
  },
  {
   "cell_type": "code",
   "execution_count": 22,
   "metadata": {},
   "outputs": [],
   "source": [
    "#conclusion\n",
    "#not sure if every stock is suitable, it needs to try more times and other stocks\n",
    "#our predict value are smoother than real value\n",
    "#and last 29 days are closer with real value too.\"\"\""
   ]
  },
  {
   "cell_type": "code",
   "execution_count": null,
   "metadata": {},
   "outputs": [],
   "source": []
  }
 ],
 "metadata": {
  "kernelspec": {
   "display_name": "Python 3",
   "language": "python",
   "name": "python3"
  },
  "language_info": {
   "codemirror_mode": {
    "name": "ipython",
    "version": 3
   },
   "file_extension": ".py",
   "mimetype": "text/x-python",
   "name": "python",
   "nbconvert_exporter": "python",
   "pygments_lexer": "ipython3",
   "version": "3.6.8"
  }
 },
 "nbformat": 4,
 "nbformat_minor": 2
}
